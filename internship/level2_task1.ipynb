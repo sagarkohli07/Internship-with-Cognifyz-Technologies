{
 "cells": [
  {
   "cell_type": "markdown",
   "metadata": {},
   "source": [
    "# Level 2 Task 1\n",
    "Task:Table Booking and Online Delivery\n",
    "Determine the percentage of restaurants that\n",
    "offer table booking and online delivery.\n",
    "Compare the average ratings of restaurants\n",
    "with table booking and those without.\n",
    "Analyze the availability of online delivery\n",
    "among restaurants with different price ranges."
   ]
  },
  {
   "cell_type": "code",
   "execution_count": 2,
   "metadata": {},
   "outputs": [],
   "source": [
    "import pandas as pd\n",
    "import numpy as np\n",
    "import matplotlib.pyplot as plt\n",
    "import seaborn as sns"
   ]
  },
  {
   "cell_type": "markdown",
   "metadata": {},
   "source": [
    "# About Data \n",
    "Data is takken from Kaggle\n",
    "The basic idea of analyzing the Zomato dataset is to get a fair idea about the factors affecting the aggregate rating of each restaurant, establishment of different types of restaurant at different places, Bengaluru being one such city has more than 12,000 restaurants with restaurants serving dishes from all over the world. With each day new restaurants opening the industry has'nt been saturated yet and the demand is increasing day by day. Inspite of increasing demand it however has become difficult for new restaurants to compete with established restaurants. Most of them serving the same food. Bengaluru being an IT capital of India. Most of the people here are dependent mainly on the restaurant food as they don't have time to cook for themselves. With such an overwhelming demand of restaurants it has therefore become important to study the demography of a location. What kind of a food is more popular in a locality. Do the entire locality loves vegetarian food. If yes then is that locality populated by a particular sect of people for eg. Jain, Marwaris, Gujaratis who are mostly vegetarian. These kind of analysis can be done using the data, by studying different factors."
   ]
  },
  {
   "cell_type": "code",
   "execution_count": 23,
   "metadata": {},
   "outputs": [
    {
     "data": {
      "text/plain": [
       "url                                0\n",
       "address                            0\n",
       "name                               0\n",
       "online_order                       0\n",
       "book_table                         0\n",
       "rate                            7775\n",
       "votes                              0\n",
       "phone                           1208\n",
       "location                          21\n",
       "rest_type                        227\n",
       "dish_liked                     28078\n",
       "cuisines                          45\n",
       "approx_cost(for two people)      346\n",
       "reviews_list                       0\n",
       "menu_item                          0\n",
       "listed_in(type)                    0\n",
       "listed_in(city)                    0\n",
       "dtype: int64"
      ]
     },
     "execution_count": 23,
     "metadata": {},
     "output_type": "execute_result"
    }
   ],
   "source": [
    "dataframe = pd.read_csv('zomato.csv')\n",
    "dataframe.isnull().sum()\n",
    "\n"
   ]
  },
  {
   "cell_type": "code",
   "execution_count": 14,
   "metadata": {},
   "outputs": [],
   "source": [
    "\n",
    "dataframe.dropna(inplace=True)"
   ]
  },
  {
   "cell_type": "code",
   "execution_count": 18,
   "metadata": {},
   "outputs": [],
   "source": [
    "dataframe.isnull().sum()\n",
    "dataframe.drop_duplicates(inplace=True)"
   ]
  },
  {
   "cell_type": "code",
   "execution_count": 21,
   "metadata": {},
   "outputs": [
    {
     "name": "stdout",
     "output_type": "stream",
     "text": [
      "              votes\n",
      "count  23193.000000\n",
      "mean     601.074462\n",
      "std     1114.854301\n",
      "min        0.000000\n",
      "25%      101.000000\n",
      "50%      221.000000\n",
      "75%      586.000000\n",
      "max    16832.000000\n"
     ]
    }
   ],
   "source": [
    "print(dataframe.describe())\n"
   ]
  },
  {
   "cell_type": "code",
   "execution_count": 39,
   "metadata": {},
   "outputs": [
    {
     "name": "stdout",
     "output_type": "stream",
     "text": [
      "Average rating for restaurants with table booking: 4.143464467005076\n",
      "Average rating for restaurants without table booking: 3.621469981052572\n"
     ]
    }
   ],
   "source": [
    "dataframe['rate'] = dataframe['rate'].astype(str).str.replace('/5', '').str.strip()\n",
    "dataframe['rate'] = pd.to_numeric(dataframe['rate'], errors='coerce')\n",
    "avg_rating_with_booking = dataframe[dataframe['book_table'] == 'Yes']['rate'].dropna().mean()\n",
    "avg_rating_without_booking = dataframe[dataframe['book_table'] == 'No']['rate'].dropna().mean()\n",
    "table_booking_percentage = (dataframe['book_table'] == 'Yes').sum() / len(dataframe) * 100\n",
    "online_delivery_percentage = (dataframe['online_order'] == 'Yes').sum() / len(dataframe) * 100\n",
    "\n",
    "print(f\"Average rating for restaurants with table booking: {avg_rating_with_booking}\")\n",
    "print(f\"Average rating for restaurants without table booking: {avg_rating_without_booking}\")\n"
   ]
  },
  {
   "cell_type": "code",
   "execution_count": 36,
   "metadata": {},
   "outputs": [],
   "source": [
    "\n",
    "dataframe['approx_cost(for two people)'] = dataframe['approx_cost(for two people)'].astype(str).str.replace(',', '')\n",
    "\n",
    "dataframe['approx_cost(for two people)'] = dataframe['approx_cost(for two people)'].astype(float)\n"
   ]
  },
  {
   "cell_type": "code",
   "execution_count": 37,
   "metadata": {},
   "outputs": [],
   "source": [
    "delivery_by_price_range = dataframe.groupby('approx_cost(for two people)')['online_order'].value_counts(normalize=True).unstack().fillna(0) * 100\n"
   ]
  },
  {
   "cell_type": "code",
   "execution_count": 38,
   "metadata": {},
   "outputs": [
    {
     "data": {
      "image/png": "[encoded data removed]",
      "text/plain": [
       "<Figure size 1000x500 with 1 Axes>"
      ]
     },
     "metadata": {},
     "output_type": "display_data"
    }
   ],
   "source": [
    "plt.figure(figsize=(10, 5))\n",
    "sns.barplot(x='approx_cost(for two people)', y='online_order', data=dataframe)\n",
    "plt.title('Online Delivery Availability by Price Range')\n",
    "plt.show()"
   ]
  },
  {
   "cell_type": "code",
   "execution_count": null,
   "metadata": {},
   "outputs": [],
   "source": []
  }
 ],
 "metadata": {
  "kernelspec": {
   "display_name": "Python 3",
   "language": "python",
   "name": "python3"
  },
  "language_info": {
   "codemirror_mode": {
    "name": "ipython",
    "version": 3
   },
   "file_extension": ".py",
   "mimetype": "text/x-python",
   "name": "python",
   "nbconvert_exporter": "python",
   "pygments_lexer": "ipython3",
   "version": "3.12.3"
  }
 },
 "nbformat": 4,
 "nbformat_minor": 2
}
